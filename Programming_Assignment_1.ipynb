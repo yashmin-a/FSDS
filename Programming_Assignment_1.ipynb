{
 "cells": [
  {
   "cell_type": "markdown",
   "metadata": {},
   "source": [
    "1. Write a Python program to print \"Hello Python\"?"
   ]
  },
  {
   "cell_type": "code",
   "execution_count": 1,
   "metadata": {},
   "outputs": [
    {
     "name": "stdout",
     "output_type": "stream",
     "text": [
      "\"Hello Python\"\n"
     ]
    }
   ],
   "source": [
    "print('\"Hello Python\"')"
   ]
  },
  {
   "cell_type": "markdown",
   "metadata": {},
   "source": [
    "2. Write a Python program to do arithmetical operations addition and division.?"
   ]
  },
  {
   "cell_type": "code",
   "execution_count": 7,
   "metadata": {},
   "outputs": [
    {
     "name": "stdout",
     "output_type": "stream",
     "text": [
      "Enter first integer: 6\n",
      "Enter second integer: 8\n",
      "Addition of 6.0 and 8.0 is 14.0\n",
      "Division of 6.0 and 8.0 is 0.75\n"
     ]
    }
   ],
   "source": [
    "a = float(input(\"Enter first integer: \"))\n",
    "b = float(input(\"Enter second integer: \"))\n",
    "\n",
    "add = a+b\n",
    "div = a/b\n",
    "\n",
    "print('Addition of '+str(a)+' and ' +str(b)+' is '+str(add) )\n",
    "print('Division of '+str(a)+' and ' +str(b)+' is '+str(div) )    "
   ]
  },
  {
   "cell_type": "markdown",
   "metadata": {},
   "source": [
    "3. Write a Python program to find the area of a triangle?"
   ]
  },
  {
   "cell_type": "code",
   "execution_count": 8,
   "metadata": {},
   "outputs": [
    {
     "name": "stdout",
     "output_type": "stream",
     "text": [
      "Enter base:6\n",
      "Enter height:7\n",
      "Area of triangle is 21.0 square units.\n"
     ]
    }
   ],
   "source": [
    "base = float(input(\"Enter base:\"))\n",
    "height = float(input(\"Enter height:\"))\n",
    "\n",
    "area = (1/2) * base * height\n",
    "print(\"Area of triangle is \"+str(area)+\" square units.\")"
   ]
  },
  {
   "cell_type": "markdown",
   "metadata": {},
   "source": [
    "4. Write a Python program to swap two variables?"
   ]
  },
  {
   "cell_type": "code",
   "execution_count": 14,
   "metadata": {},
   "outputs": [
    {
     "name": "stdout",
     "output_type": "stream",
     "text": [
      "First variable Second variable\n",
      "Second variable First variable\n"
     ]
    }
   ],
   "source": [
    "var1 = 'First variable'\n",
    "var2 = 'Second variable'\n",
    "temp = 0\n",
    "print(var1,var2)\n",
    "\n",
    "temp = var1\n",
    "var1 = var2\n",
    "var2 = temp\n",
    "\n",
    "print(var1,var2)"
   ]
  },
  {
   "cell_type": "code",
   "execution_count": 15,
   "metadata": {},
   "outputs": [
    {
     "name": "stdout",
     "output_type": "stream",
     "text": [
      "First variable Second variable\n",
      "Second variable First variable\n"
     ]
    }
   ],
   "source": [
    "#Another way (Shorter method)\n",
    "var1 = 'First variable'\n",
    "var2 = 'Second variable'\n",
    "print(var1,var2)\n",
    "\n",
    "var1, var2 = var2, var1\n",
    "print(var1,var2)"
   ]
  },
  {
   "cell_type": "markdown",
   "metadata": {},
   "source": [
    "5. Write a Python program to generate a random number?"
   ]
  },
  {
   "cell_type": "code",
   "execution_count": 20,
   "metadata": {},
   "outputs": [
    {
     "name": "stdout",
     "output_type": "stream",
     "text": [
      "64262\n"
     ]
    }
   ],
   "source": [
    "import random\n",
    "a = random.randint(1,70000)\n",
    "print(a)"
   ]
  },
  {
   "cell_type": "code",
   "execution_count": null,
   "metadata": {},
   "outputs": [],
   "source": []
  }
 ],
 "metadata": {
  "kernelspec": {
   "display_name": "Python 3",
   "language": "python",
   "name": "python3"
  },
  "language_info": {
   "codemirror_mode": {
    "name": "ipython",
    "version": 3
   },
   "file_extension": ".py",
   "mimetype": "text/x-python",
   "name": "python",
   "nbconvert_exporter": "python",
   "pygments_lexer": "ipython3",
   "version": "3.7.6"
  }
 },
 "nbformat": 4,
 "nbformat_minor": 4
}
