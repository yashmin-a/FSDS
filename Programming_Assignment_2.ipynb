{
 "cells": [
  {
   "cell_type": "markdown",
   "metadata": {},
   "source": [
    "1. Write a Python program to convert kilometers to miles?"
   ]
  },
  {
   "cell_type": "code",
   "execution_count": 1,
   "metadata": {},
   "outputs": [
    {
     "name": "stdout",
     "output_type": "stream",
     "text": [
      "Enter distance(in km): 5\n",
      "5 km is 3.1068559611866697 miles\n"
     ]
    }
   ],
   "source": [
    "km = int(input(\"Enter distance(in km): \"))\n",
    "miles = km/1.609344\n",
    "print(\"\" +str(km) + \" km is \" +str(miles)+ \" miles\")"
   ]
  },
  {
   "cell_type": "markdown",
   "metadata": {},
   "source": [
    "2. Write a Python program to convert Celsius to Fahrenheit?"
   ]
  },
  {
   "cell_type": "code",
   "execution_count": 2,
   "metadata": {},
   "outputs": [
    {
     "name": "stdout",
     "output_type": "stream",
     "text": [
      "Enter temperature (in Celsius): 46\n",
      "46 Celsius is 114.8 Fahrenheit\n"
     ]
    }
   ],
   "source": [
    "celsius = int(input('Enter temperature (in Celsius): '))\n",
    "fahrenheit = (celsius * 9/5)+ 32\n",
    "print(''+str(celsius)+ ' Celsius is '+str(fahrenheit)+' Fahrenheit')"
   ]
  },
  {
   "cell_type": "markdown",
   "metadata": {},
   "source": [
    "3. Write a Python program to display calendar?"
   ]
  },
  {
   "cell_type": "code",
   "execution_count": 3,
   "metadata": {},
   "outputs": [
    {
     "name": "stdout",
     "output_type": "stream",
     "text": [
      "Enter Year: 12\n",
      "Enter Month : 12\n",
      "    December 12\n",
      "Mo Tu We Th Fr Sa Su\n",
      "                1  2\n",
      " 3  4  5  6  7  8  9\n",
      "10 11 12 13 14 15 16\n",
      "17 18 19 20 21 22 23\n",
      "24 25 26 27 28 29 30\n",
      "31\n",
      "\n"
     ]
    }
   ],
   "source": [
    "import calendar\n",
    "year = int(input('Enter Year: '))\n",
    "month = int(input('Enter Month : '))\n",
    "print(calendar.month(year,month))"
   ]
  },
  {
   "cell_type": "markdown",
   "metadata": {},
   "source": [
    "4. Write a Python program to solve quadratic equation?"
   ]
  },
  {
   "cell_type": "code",
   "execution_count": 6,
   "metadata": {},
   "outputs": [
    {
     "name": "stdout",
     "output_type": "stream",
     "text": [
      "Enter value of a: 4\n",
      "Enter value of b: 5\n",
      "Enter value of c: 8\n",
      "Two distinct complex roots are -0.62 + 1.27i and -0.62 - 1.27i\n"
     ]
    }
   ],
   "source": [
    "import math\n",
    "\n",
    "a = int(input('Enter value of a: '))\n",
    "b = int(input('Enter value of b: '))\n",
    "c = int(input('Enter value of c: '))\n",
    "\n",
    "d = (b**2) - (4*a*c) #discrimant's value\n",
    "\n",
    "if(d>0):\n",
    "    root1 = (-b + math.sqrt(d)/ (2*a))\n",
    "    root2 = (-b - math.sqrt(d)/ (2*a))\n",
    "    print('The two distinct real roots are {} and {}',format(root1,root2))\n",
    "    \n",
    "elif(d == 0):\n",
    "    root = -b/(2*a)\n",
    "    print('The two real roots are {} and {}',format(root,root))\n",
    "    \n",
    "elif(d<0):\n",
    "    root1 = root2 = -b/(2*a)\n",
    "    imaginary = math.sqrt(-d)/(2*a)\n",
    "    print('Two distinct complex roots are %.2f + %.2fi and %.2f - %.2fi'%(root1,imaginary,root2,imaginary))\n",
    "    "
   ]
  },
  {
   "cell_type": "markdown",
   "metadata": {},
   "source": [
    "5. Write a Python program to swap two variables without temp variable?"
   ]
  },
  {
   "cell_type": "code",
   "execution_count": 4,
   "metadata": {},
   "outputs": [
    {
     "name": "stdout",
     "output_type": "stream",
     "text": [
      "First variable Second variable\n"
     ]
    }
   ],
   "source": [
    "a = 'First variable'\n",
    "b = 'Second variable'\n",
    "print(a,b) #before swapping"
   ]
  },
  {
   "cell_type": "code",
   "execution_count": 5,
   "metadata": {},
   "outputs": [
    {
     "name": "stdout",
     "output_type": "stream",
     "text": [
      "Second variable First variable\n"
     ]
    }
   ],
   "source": [
    "a,b = b,a\n",
    "\n",
    "print(a,b) #after swapping"
   ]
  },
  {
   "cell_type": "code",
   "execution_count": null,
   "metadata": {},
   "outputs": [],
   "source": []
  }
 ],
 "metadata": {
  "kernelspec": {
   "display_name": "Python 3",
   "language": "python",
   "name": "python3"
  },
  "language_info": {
   "codemirror_mode": {
    "name": "ipython",
    "version": 3
   },
   "file_extension": ".py",
   "mimetype": "text/x-python",
   "name": "python",
   "nbconvert_exporter": "python",
   "pygments_lexer": "ipython3",
   "version": "3.7.6"
  }
 },
 "nbformat": 4,
 "nbformat_minor": 4
}
