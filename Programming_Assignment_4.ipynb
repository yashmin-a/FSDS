{
 "cells": [
  {
   "cell_type": "markdown",
   "metadata": {},
   "source": [
    "1. Write a Python Program to Find the Factorial of a Number?"
   ]
  },
  {
   "cell_type": "code",
   "execution_count": 1,
   "metadata": {},
   "outputs": [
    {
     "name": "stdout",
     "output_type": "stream",
     "text": [
      "Factorial of 6\n",
      "Factorial of 6 is 720\n"
     ]
    }
   ],
   "source": [
    "num = int(input('Factorial of '))\n",
    "factorial = 1\n",
    "i = num\n",
    "\n",
    "while i > 1:\n",
    "    factorial = factorial * i\n",
    "    i -= 1 \n",
    "    \n",
    "print('Factorial of %i is %i'%(num,factorial))    "
   ]
  },
  {
   "cell_type": "markdown",
   "metadata": {},
   "source": [
    "2. Write a Python Program to Display the multiplication Table?"
   ]
  },
  {
   "cell_type": "code",
   "execution_count": 2,
   "metadata": {},
   "outputs": [
    {
     "name": "stdout",
     "output_type": "stream",
     "text": [
      "Multiplication table of 6\n",
      "6 * 1 = 6\n",
      "6 * 2 = 12\n",
      "6 * 3 = 18\n",
      "6 * 4 = 24\n",
      "6 * 5 = 30\n",
      "6 * 6 = 36\n",
      "6 * 7 = 42\n",
      "6 * 8 = 48\n",
      "6 * 9 = 54\n",
      "6 * 10 = 60\n"
     ]
    }
   ],
   "source": [
    "num = int(input('Multiplication table of '))\n",
    "\n",
    "for i in range(1,11):\n",
    "    print(str(num)+ ' * ' +str(i)+ ' = ' + str(num*i) ) "
   ]
  },
  {
   "cell_type": "markdown",
   "metadata": {},
   "source": [
    "3. Write a Python Program to Print the Fibonacci sequence?"
   ]
  },
  {
   "cell_type": "code",
   "execution_count": 3,
   "metadata": {},
   "outputs": [
    {
     "name": "stdout",
     "output_type": "stream",
     "text": [
      "Enter number to calculate Fibonacci sequence 6\n",
      "1\n",
      "2\n",
      "3\n",
      "5\n",
      "8\n",
      "13\n",
      "21\n"
     ]
    }
   ],
   "source": [
    "num = int(input('Enter number to calculate Fibonacci sequence '))\n",
    "first = 0\n",
    "second = 1\n",
    "addition = 1\n",
    "count = 0\n",
    "\n",
    "while count <= num:\n",
    "    print(addition)\n",
    "    count += 1\n",
    "    first, second = second, addition\n",
    "    addition = first + second"
   ]
  },
  {
   "cell_type": "markdown",
   "metadata": {},
   "source": [
    "4. Write a Python Program to Check Armstrong Number?"
   ]
  },
  {
   "cell_type": "code",
   "execution_count": 15,
   "metadata": {},
   "outputs": [
    {
     "name": "stdout",
     "output_type": "stream",
     "text": [
      "Check for Armstrong Number 370\n",
      "370 is an Armstrong number\n"
     ]
    }
   ],
   "source": [
    "#Get input\n",
    "num = int(input('Check for Armstrong Number '))\n",
    "\n",
    "#Initialize variables\n",
    "digits_in_num = 0\n",
    "sum = 0\n",
    "\n",
    "#Calculate number of digits\n",
    "temp = num\n",
    "while temp > 0:\n",
    "    digits_in_num = digits_in_num + 1\n",
    "    temp = temp // 10\n",
    "\n",
    "#Finding Armstrong number\n",
    "temp = num\n",
    "while temp > 0:\n",
    "    remainder = temp % 10\n",
    "    sum = sum + (remainder ** digits_in_num)\n",
    "    temp //= 10\n",
    "\n",
    "if num == sum:\n",
    "    print('%i is an Armstrong number'%(num))\n",
    "else:\n",
    "    print('%i is not an Armstrong number'%(num))"
   ]
  },
  {
   "cell_type": "markdown",
   "metadata": {},
   "source": [
    "5. Write a Python Program to Find Armstrong Number in an Interval?"
   ]
  },
  {
   "cell_type": "code",
   "execution_count": 5,
   "metadata": {},
   "outputs": [
    {
     "name": "stdout",
     "output_type": "stream",
     "text": [
      "Give lower limit for Armstrong Number 330\n",
      "Give upper limit for Armstrong Number 380\n",
      "370 is an Armstrong number in the given interval\n",
      "371 is an Armstrong number in the given interval\n"
     ]
    }
   ],
   "source": [
    "#Get input\n",
    "lower = int(input('Give lower limit for Armstrong Number '))\n",
    "upper = int(input('Give upper limit for Armstrong Number '))\n",
    "\n",
    "for num in range(lower,upper + 1):\n",
    "    #Initialize variables\n",
    "    digits_in_num = len(str(num))\n",
    "    sum = 0\n",
    "    \n",
    "    #Finding Armstrong number\n",
    "    temp = num\n",
    "    while temp > 0:\n",
    "        remainder = temp % 10\n",
    "        sum = sum + (remainder ** digits_in_num)\n",
    "        temp //= 10\n",
    "\n",
    "    if num == sum:\n",
    "        print('%i is an Armstrong number in the given interval'%(num))"
   ]
  },
  {
   "cell_type": "markdown",
   "metadata": {},
   "source": [
    "6. Write a Python Program to Find the Sum of Natural Numbers?"
   ]
  },
  {
   "cell_type": "code",
   "execution_count": 1,
   "metadata": {},
   "outputs": [
    {
     "name": "stdout",
     "output_type": "stream",
     "text": [
      "Enter number to get sum of natural numbers 15\n",
      "The sum of natural numbers is 120\n"
     ]
    }
   ],
   "source": [
    "num = int(input('Enter number to get sum of natural numbers '))\n",
    "\n",
    "add = num * (num + 1)/2\n",
    "print('The sum of natural numbers is %i' %(add))"
   ]
  },
  {
   "cell_type": "code",
   "execution_count": null,
   "metadata": {},
   "outputs": [],
   "source": []
  }
 ],
 "metadata": {
  "kernelspec": {
   "display_name": "Python 3",
   "language": "python",
   "name": "python3"
  },
  "language_info": {
   "codemirror_mode": {
    "name": "ipython",
    "version": 3
   },
   "file_extension": ".py",
   "mimetype": "text/x-python",
   "name": "python",
   "nbconvert_exporter": "python",
   "pygments_lexer": "ipython3",
   "version": "3.7.6"
  }
 },
 "nbformat": 4,
 "nbformat_minor": 4
}
