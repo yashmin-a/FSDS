{
 "cells": [
  {
   "cell_type": "markdown",
   "metadata": {},
   "source": [
    "1. Write a Python Program to Find LCM?"
   ]
  },
  {
   "cell_type": "code",
   "execution_count": 11,
   "metadata": {},
   "outputs": [
    {
     "name": "stdout",
     "output_type": "stream",
     "text": [
      "Enter first number 8\n",
      "Enter second number 9\n",
      "LCM of 8 and 9 is 72\n"
     ]
    }
   ],
   "source": [
    "a = int(input('Enter first number '))\n",
    "b = int(input('Enter second number '))\n",
    "\n",
    "if a>b:\n",
    "    greater = a\n",
    "else:\n",
    "    greater = b\n",
    "    \n",
    "while(True):\n",
    "    if ((greater % a == 0) and (greater % b == 0)):\n",
    "        print('LCM of %i and %i is %i' %(a,b,greater))\n",
    "        break\n",
    "    greater += 1"
   ]
  },
  {
   "cell_type": "markdown",
   "metadata": {},
   "source": [
    "2. Write a Python Program to Find HCF?"
   ]
  },
  {
   "cell_type": "code",
   "execution_count": 7,
   "metadata": {},
   "outputs": [
    {
     "name": "stdout",
     "output_type": "stream",
     "text": [
      "Enter first number 5\n",
      "Enter second number 15\n",
      "HCF of 5 and 15 is 5\n"
     ]
    }
   ],
   "source": [
    "a = int(input('Enter first number '))\n",
    "b = int(input('Enter second number '))\n",
    "\n",
    "def hcf_compute(x,y):\n",
    "    if x>y:\n",
    "        lesser = y\n",
    "    else:\n",
    "        lesser = x\n",
    "\n",
    "    for i in range(1,lesser+1) :\n",
    "        if((x % i == 0) and (y % i == 0)):\n",
    "            hcf = i\n",
    "            #lesser += 1\n",
    "    return hcf\n",
    "print('HCF of %i and %i is %i' %(a,b,hcf_compute(a,b)))"
   ]
  },
  {
   "cell_type": "markdown",
   "metadata": {},
   "source": [
    "3. Write a Python Program to Convert Decimal to Binary, Octal and Hexadecimal?"
   ]
  },
  {
   "cell_type": "code",
   "execution_count": 9,
   "metadata": {},
   "outputs": [
    {
     "name": "stdout",
     "output_type": "stream",
     "text": [
      "Enter number: 685\n",
      "The decimal value of 685 is:\n",
      "0b1010101101 in binary.\n",
      "0o1255 in octal.\n",
      "0x2ad in hexadecimal.\n"
     ]
    }
   ],
   "source": [
    "# Python program to convert decimal into other number systems\n",
    "dec = int(input('Enter number: '))\n",
    "\n",
    "print(\"The decimal value of\", dec, \"is:\")\n",
    "print(bin(dec), \"in binary.\")\n",
    "print(oct(dec), \"in octal.\")\n",
    "print(hex(dec), \"in hexadecimal.\")"
   ]
  },
  {
   "cell_type": "markdown",
   "metadata": {},
   "source": [
    "4. Write a Python Program To Find ASCII value of a character?"
   ]
  },
  {
   "cell_type": "code",
   "execution_count": 8,
   "metadata": {},
   "outputs": [
    {
     "name": "stdout",
     "output_type": "stream",
     "text": [
      "Enter a character to know its ASCII value G\n",
      "The ASCII value of G is 71\n"
     ]
    }
   ],
   "source": [
    "i = input('Enter a character to know its ASCII value ')\n",
    "\n",
    "print('The ASCII value of %s is %i' %(i,ord(i)))"
   ]
  },
  {
   "cell_type": "markdown",
   "metadata": {},
   "source": [
    "5. Write a Python Program to Make a Simple Calculator with 4 basic mathematical operations?"
   ]
  },
  {
   "cell_type": "code",
   "execution_count": 10,
   "metadata": {},
   "outputs": [
    {
     "name": "stdout",
     "output_type": "stream",
     "text": [
      "Enter first number 79\n",
      "Enter second number 7\n",
      "Enter option of the operation to be performed \n",
      "1. Addition\n",
      "2. Subtraction\n",
      "3. Multiplication\n",
      "4. Division\n",
      "1\n",
      "79 + 7 = 86\n"
     ]
    }
   ],
   "source": [
    "a = int(input('Enter first number '))\n",
    "b = int(input('Enter second number '))\n",
    "print('Enter option of the operation to be performed ')\n",
    "print('1. Addition')\n",
    "print('2. Subtraction')\n",
    "print('3. Multiplication')\n",
    "print('4. Division')\n",
    "option = int(input())\n",
    "\n",
    "def add(x,y):\n",
    "    print(str(x)+' + '+str(y)+' = '+str(x + y))\n",
    "def sub(x,y):\n",
    "    print(str(x)+' - '+str(y)+' = '+str(x - y))\n",
    "def multi(x,y):\n",
    "    print(str(x)+' * '+str(y)+' = '+str(x * y))\n",
    "def div(x,y):\n",
    "    print(str(x)+' / '+str(y)+' = '+str(x / y))\n",
    "\n",
    "if option == 1:\n",
    "    add(a,b)\n",
    "elif option == 2:\n",
    "    sub(a,b)\n",
    "elif option == 3:\n",
    "    multi(a,b)\n",
    "elif option == 4:\n",
    "    div(a,b)\n",
    "else:\n",
    "    print('Choose from given options')"
   ]
  },
  {
   "cell_type": "code",
   "execution_count": null,
   "metadata": {},
   "outputs": [],
   "source": []
  }
 ],
 "metadata": {
  "kernelspec": {
   "display_name": "Python 3",
   "language": "python",
   "name": "python3"
  },
  "language_info": {
   "codemirror_mode": {
    "name": "ipython",
    "version": 3
   },
   "file_extension": ".py",
   "mimetype": "text/x-python",
   "name": "python",
   "nbconvert_exporter": "python",
   "pygments_lexer": "ipython3",
   "version": "3.7.6"
  }
 },
 "nbformat": 4,
 "nbformat_minor": 4
}
