{
 "cells": [
  {
   "cell_type": "markdown",
   "metadata": {},
   "source": [
    "1. Write a Python Program to Display Fibonacci Sequence Using Recursion?"
   ]
  },
  {
   "cell_type": "code",
   "execution_count": 1,
   "metadata": {},
   "outputs": [
    {
     "name": "stdout",
     "output_type": "stream",
     "text": [
      "Fibonacci Series: 1\n",
      "1\n",
      "1\n",
      "2\n",
      "3\n",
      "5\n",
      "8\n",
      "13\n",
      "21\n",
      "34\n",
      "55\n",
      "89\n",
      "144\n",
      "233\n",
      "377\n",
      "610\n"
     ]
    }
   ],
   "source": [
    "num = 1\n",
    "\n",
    "def fibonacci(num):\n",
    "    if num<=1:\n",
    "        return 1\n",
    "    else:\n",
    "        return (fibonacci(num-1)+fibonacci(num-2))\n",
    "\n",
    "terms = 15\n",
    "if terms<1:\n",
    "    print(\"Please enter a positive integer\")\n",
    "else:    \n",
    "    print(\"Fibonacci Series:\",fibonacci(num))\n",
    "    for i in range(terms):\n",
    "        print(fibonacci(i))"
   ]
  },
  {
   "cell_type": "markdown",
   "metadata": {},
   "source": [
    "2. Write a Python Program to Find Factorial of Number Using Recursion?"
   ]
  },
  {
   "cell_type": "code",
   "execution_count": 2,
   "metadata": {},
   "outputs": [
    {
     "name": "stdout",
     "output_type": "stream",
     "text": [
      "Enter number to calculate factorial: 4\n",
      "Factorial of 4 is 24\n"
     ]
    }
   ],
   "source": [
    "num = int(input(\"Enter number to calculate factorial: \"))\n",
    "def factorial(num):\n",
    "    if num == 1:\n",
    "        return 1\n",
    "    else:\n",
    "        return(num*factorial(num-1))\n",
    "\n",
    "print(\"Factorial of %i is %i\"%(num,factorial(num)))"
   ]
  },
  {
   "cell_type": "markdown",
   "metadata": {},
   "source": [
    "3. Write a Python Program to calculate your Body Mass Index?"
   ]
  },
  {
   "cell_type": "code",
   "execution_count": 3,
   "metadata": {},
   "outputs": [
    {
     "name": "stdout",
     "output_type": "stream",
     "text": [
      "Enter weight in kg: 55\n",
      "Enter height in metres: 1.6\n",
      "21.484374999999996kg/sq.m. is the Body Mass Index\n"
     ]
    }
   ],
   "source": [
    "kg = float(input(\"Enter weight in kg: \"))\n",
    "m = float(input(\"Enter height in metres: \"))\n",
    "bmi = kg/(m**2)\n",
    "\n",
    "print(str(bmi)+\"kg/sq.m. is the Body Mass Index\")"
   ]
  },
  {
   "cell_type": "markdown",
   "metadata": {},
   "source": [
    "4. Write a Python Program to calculate the natural logarithm of any number?"
   ]
  },
  {
   "cell_type": "code",
   "execution_count": 4,
   "metadata": {},
   "outputs": [
    {
     "name": "stdout",
     "output_type": "stream",
     "text": [
      "Enter number for logarithmic conversion:5\n",
      "1.6094379124341003 is the natural logarithm of 5.0\n"
     ]
    }
   ],
   "source": [
    "import math\n",
    "num = float(input(\"Enter number for logarithmic conversion:\"))\n",
    "print(str(math.log(num))+\" is the natural logarithm of \"+str(num))"
   ]
  },
  {
   "cell_type": "markdown",
   "metadata": {},
   "source": [
    "5. Write a Python Program for cube sum of first n natural numbers?"
   ]
  },
  {
   "cell_type": "code",
   "execution_count": 5,
   "metadata": {},
   "outputs": [
    {
     "name": "stdout",
     "output_type": "stream",
     "text": [
      "Enter number to get the cube sum of natural numbers: 7\n",
      "784 is cube sum of natural numbers upto 7\n"
     ]
    }
   ],
   "source": [
    "num = int(input(\"Enter number to get the cube sum of natural numbers: \"))\n",
    "temp = 0\n",
    "for i in range(1,num+1):\n",
    "    temp = temp + pow(i,3)\n",
    "\n",
    "print(str(temp)+\" is cube sum of natural numbers upto \"+str(num))"
   ]
  },
  {
   "cell_type": "code",
   "execution_count": null,
   "metadata": {},
   "outputs": [],
   "source": []
  }
 ],
 "metadata": {
  "kernelspec": {
   "display_name": "Python 3",
   "language": "python",
   "name": "python3"
  },
  "language_info": {
   "codemirror_mode": {
    "name": "ipython",
    "version": 3
   },
   "file_extension": ".py",
   "mimetype": "text/x-python",
   "name": "python",
   "nbconvert_exporter": "python",
   "pygments_lexer": "ipython3",
   "version": "3.7.6"
  }
 },
 "nbformat": 4,
 "nbformat_minor": 4
}
