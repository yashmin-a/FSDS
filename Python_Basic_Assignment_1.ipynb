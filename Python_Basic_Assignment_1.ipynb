{
 "cells": [
  {
   "cell_type": "markdown",
   "metadata": {},
   "source": [
    "1. In the below elements which of them are values or an expression? eg:- values can be\n",
    "integer or string and expressions will be mathematical operators.\n",
    "*,\n",
    "'hello',\n",
    "-87.8, \n",
    "-,\n",
    "/,\n",
    "+,\n",
    "6\n"
   ]
  },
  {
   "cell_type": "markdown",
   "metadata": {},
   "source": [
    "Values = {'hello',-87.8,6} <br>\n",
    "Expression = {*,-,/,+}"
   ]
  },
  {
   "cell_type": "markdown",
   "metadata": {},
   "source": [
    "2. What is the difference between string and variable?"
   ]
  },
  {
   "cell_type": "markdown",
   "metadata": {},
   "source": [
    "__String__ is any value that is enclosed in single('') or double(\"\") quotes. It is a data type.\n",
    "__Variable__ is the name given to a location of a memory as specified by the programmer. It can store various kinds of data types like string, integer, floating point integer, etc."
   ]
  },
  {
   "cell_type": "markdown",
   "metadata": {},
   "source": [
    "3. Describe three different data types."
   ]
  },
  {
   "cell_type": "markdown",
   "metadata": {},
   "source": [
    "The 3 data types are:\n",
    "1. __String__ : Any data that is enclosed within single('') or double quotes(\"\") is called String. \n",
    "            e.g. \"Hello\" , \"1554\"\n",
    "2. __Integer__ : Numbers are stored as integers.  \n",
    "            e.g. 145, 25 ,567965132134\n",
    "3. __Float__ : Decimal Numbers are stored as Floating point integers or Floats. They require more memory than integers. \n",
    "            e.g. 2.0, 2.523, 4.923556"
   ]
  },
  {
   "cell_type": "markdown",
   "metadata": {},
   "source": [
    "4. What is an expression made up of? What do all expressions do?"
   ]
  },
  {
   "cell_type": "markdown",
   "metadata": {},
   "source": [
    "Expressions are made up of __operators__ and __operands__.\n",
    "__Operators__ are the operations being performed on the operands like addition(+), subtraction(-), multiplication(*), division(/).\n",
    "__Operands__ are the values upon which the operations are performed on. \n",
    "    e.g. 2+2 where 2,2 are the operands & + is the operator. <br>\n",
    "Expressions evaluate to a single value. \n",
    "    e.g. 2+2 will evaluate to 4.\n",
    "Even single value by itself is an expression. e.g. \"2\" will evaluate to itself."
   ]
  },
  {
   "cell_type": "markdown",
   "metadata": {},
   "source": [
    "5. This assignment statements, like spam = 10. What is the difference between an\n",
    "expression and a statement?"
   ]
  },
  {
   "cell_type": "markdown",
   "metadata": {},
   "source": [
    "__Expressions__ are one kind of instruction in Python. __Statements__ are another kind of instruction. \n",
    "The difference between an expression and a statement is that an expression __evaluates to a single value__ while a statement __doesn't evaluate to a single value__. Although, an assignment statement can have an expression as part of itself.\n",
    "e.g. spam = 2+2 {You stored 2+2 which gets evaluated to 4.} <br>\n",
    "spam {On calling the variable, you receive the evaluated value as output.}\n",
    "[Output:] 4 "
   ]
  },
  {
   "cell_type": "markdown",
   "metadata": {},
   "source": [
    "6. After running the following code, what does the variable bacon contain?\n",
    "bacon = 22\n",
    "bacon + 1"
   ]
  },
  {
   "cell_type": "code",
   "execution_count": 1,
   "metadata": {},
   "outputs": [
    {
     "data": {
      "text/plain": [
       "23"
      ]
     },
     "execution_count": 1,
     "metadata": {},
     "output_type": "execute_result"
    }
   ],
   "source": [
    "bacon = 22 \n",
    "bacon + 1"
   ]
  },
  {
   "cell_type": "markdown",
   "metadata": {},
   "source": [
    "The variable bacon contains __23__ after executuing given code."
   ]
  },
  {
   "cell_type": "markdown",
   "metadata": {},
   "source": [
    "7. What should the values of the following two terms be?\n",
    "'spam' + 'spamspam'\n",
    "'spam' * 3"
   ]
  },
  {
   "cell_type": "markdown",
   "metadata": {},
   "source": [
    "The values of the given two terms must be __'spamspamspam'__."
   ]
  },
  {
   "cell_type": "code",
   "execution_count": 4,
   "metadata": {},
   "outputs": [
    {
     "data": {
      "text/plain": [
       "'spamspamspam'"
      ]
     },
     "execution_count": 4,
     "metadata": {},
     "output_type": "execute_result"
    }
   ],
   "source": [
    "'spam' + 'spamspam' "
   ]
  },
  {
   "cell_type": "code",
   "execution_count": 5,
   "metadata": {},
   "outputs": [
    {
     "data": {
      "text/plain": [
       "'spamspamspam'"
      ]
     },
     "execution_count": 5,
     "metadata": {},
     "output_type": "execute_result"
    }
   ],
   "source": [
    "'spam' * 3"
   ]
  },
  {
   "cell_type": "markdown",
   "metadata": {},
   "source": [
    "8. Why is eggs a valid variable name while 100 is invalid?"
   ]
  },
  {
   "cell_type": "markdown",
   "metadata": {},
   "source": [
    "Naming conventions don't allow numbers to be the first letter in the variable name hence eggs is a valid variable name while 100 isn't. "
   ]
  },
  {
   "cell_type": "markdown",
   "metadata": {},
   "source": [
    "9. What three functions can be used to get the integer, floating-point number, or string\n",
    "version of a value?"
   ]
  },
  {
   "cell_type": "markdown",
   "metadata": {},
   "source": [
    "The functions that can be used to get the integer, floating-point number, or string version of a value are:\n",
    "1. __int()__ function converts any given value into integer. <br>\n",
    "    e.g. Given expression: ham = 21.5 <br>\n",
    "    int(ham) <br>\n",
    "    [Output] 21 \n",
    "2. __float()__ function converts any given value into floating point number. <br>\n",
    "    e.g. Given expression: ham = 21 <br>\n",
    "    float(ham) <br>\n",
    "    [Output] 21.0\n",
    "3. __str()__ function converts any given value into string. <br>\n",
    "    e.g. Given expression: ham = 21.5 <br>\n",
    "    str(ham) <br>\n",
    "    [Output] '21.5'"
   ]
  },
  {
   "cell_type": "markdown",
   "metadata": {},
   "source": [
    "10. Why does this expression cause an error? How can you fix it?\n",
    "'I have eaten'  + 99 + 'burritos'"
   ]
  },
  {
   "cell_type": "markdown",
   "metadata": {},
   "source": [
    "The given expression causes an error because it contains an integer(99) between two strings('I have eaten' & 'burritos'). \n",
    "We can fix it by:"
   ]
  },
  {
   "cell_type": "code",
   "execution_count": 8,
   "metadata": {},
   "outputs": [
    {
     "data": {
      "text/plain": [
       "'I have eaten 99 burritos'"
      ]
     },
     "execution_count": 8,
     "metadata": {},
     "output_type": "execute_result"
    }
   ],
   "source": [
    "'I have eaten' + ' 99 ' + 'burritos'"
   ]
  },
  {
   "cell_type": "code",
   "execution_count": 9,
   "metadata": {},
   "outputs": [
    {
     "data": {
      "text/plain": [
       "'I have eaten99burritos'"
      ]
     },
     "execution_count": 9,
     "metadata": {},
     "output_type": "execute_result"
    }
   ],
   "source": [
    "'I have eaten' + str(99) + 'burritos'"
   ]
  },
  {
   "cell_type": "code",
   "execution_count": null,
   "metadata": {},
   "outputs": [],
   "source": []
  }
 ],
 "metadata": {
  "kernelspec": {
   "display_name": "Python 3",
   "language": "python",
   "name": "python3"
  },
  "language_info": {
   "codemirror_mode": {
    "name": "ipython",
    "version": 3
   },
   "file_extension": ".py",
   "mimetype": "text/x-python",
   "name": "python",
   "nbconvert_exporter": "python",
   "pygments_lexer": "ipython3",
   "version": "3.7.6"
  }
 },
 "nbformat": 4,
 "nbformat_minor": 4
}
